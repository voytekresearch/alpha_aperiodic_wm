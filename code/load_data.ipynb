{
 "cells": [
  {
   "cell_type": "markdown",
   "metadata": {},
   "source": [
    "### Preliminary Necessities"
   ]
  },
  {
   "cell_type": "code",
   "execution_count": 1,
   "metadata": {},
   "outputs": [],
   "source": [
    "# Import necessary modules\n",
    "import mne\n",
    "import numpy as np\n",
    "import pandas as pd\n",
    "import os\n",
    "from mne.externals.pymatreader import read_mat\n",
    "from scipy import signal\n",
    "import matplotlib.pyplot as plt\n",
    "import seaborn as sns"
   ]
  },
  {
   "cell_type": "code",
   "execution_count": 2,
   "metadata": {},
   "outputs": [],
   "source": [
    "# Set parameters\n",
    "DATA_DIR = '../data/from_osf'\n",
    "EEG_DIR = 'EEG'\n",
    "EXP = 1\n",
    "SUBJ = 1\n",
    "ALPHA_BAND = (8, 12)\n",
    "N_BLOCKS = 3\n",
    "N_BLOCK_ITERS = 10\n",
    "IEM_N_CHANNELS = 8\n",
    "IEM_FEAT_SPACE_RANGE = (0, 359)\n",
    "IEM_BASIS_FUNC = lambda theta: np.sin(0.5 * np.radians(theta)) ** 7 \n",
    "FEATURE_NAME = 'Spatial Location'\n"
   ]
  },
  {
   "cell_type": "markdown",
   "metadata": {},
   "source": [
    "### Load Data from MAT Files"
   ]
  },
  {
   "cell_type": "code",
   "execution_count": 3,
   "metadata": {},
   "outputs": [
    {
     "name": "stdout",
     "output_type": "stream",
     "text": [
      "Not setting metadata\n",
      "Not setting metadata\n",
      "960 matching events found\n",
      "No baseline correction applied\n",
      "0 projection items activated\n",
      "0 bad epochs dropped\n",
      "Dropped 151 epochs: 2, 42, 71, 78, 83, 102, 108, 111, 115, 124, 129, 134, 154, 160, 164, 175, 176, 184, 205, 207, 210, 211, 217, 218, 221, 222, 223, 224, 225, 227, 244, 246, 248, 253, 255, 302, 306, 309, 311, 317, 333, 335, 336, 338, 374, 408, 457, 469, 471, 480, 481, 485, 486, 489, 503, 504, 506, 510, 544, 545, 548, 550, 551, 557, 564, 569, 586, 590, 591, 592, 596, 614, 623, 641, 659, 660, 667, 674, 675, 677, 690, 693, 694, 695, 697, 741, 742, 749, 750, 751, 754, 757, 758, 759, 767, 789, 790, 799, 802, 803, 809, 810, 813, 814, 820, 821, 823, 824, 828, 829, 834, 841, 843, 845, 851, 853, 854, 856, 857, 858, 861, 864, 865, 866, 870, 871, 872, 873, 874, 877, 878, 879, 881, 886, 887, 890, 911, 912, 915, 916, 920, 925, 926, 930, 934, 935, 937, 938, 948, 952, 957\n"
     ]
    }
   ],
   "source": [
    "# Load EEG data for one subject\n",
    "eeg_mat_fname = os.path.join(DATA_DIR, 'exp{}'.format(\n",
    "    EXP), EEG_DIR, '{}_EEG.mat'.format(SUBJ))\n",
    "eeg_data = read_mat(eeg_mat_fname)['eeg']\n",
    "info = mne.create_info(\n",
    "    eeg_data['chanLabels'], eeg_data['sampRate'], ch_types='eeg')\n",
    "epochs = mne.EpochsArray(\n",
    "    eeg_data['data'], info, tmin=eeg_data['preTime'] / 1000).drop(\n",
    "        eeg_data['arf']['artIndCleaned'].astype(bool))\n",
    "n_channels, n_timepts = epochs.get_data().shape[-2:]\n",
    "assert epochs.times[-1] == eeg_data['postTime'] / 1000\n",
    "\n",
    "# Load behavioral data for one subject\n",
    "beh_mat_fname = os.path.join(DATA_DIR, 'exp{}'.format(\n",
    "    EXP), 'Data', '{}_MixModel_wBias.mat'.format(SUBJ))\n",
    "beh_data = read_mat(beh_mat_fname)['beh']['trial']\n",
    "beh_data_cleaned = {k: val[~eeg_data['arf']['artIndCleaned'].astype(\n",
    "    bool)] for k, val in beh_data.items()}\n",
    "pos_bins = beh_data_cleaned['posBin']"
   ]
  },
  {
   "cell_type": "markdown",
   "metadata": {},
   "source": [
    "### EEG Preprocessing"
   ]
  },
  {
   "cell_type": "code",
   "execution_count": 4,
   "metadata": {},
   "outputs": [
    {
     "name": "stdout",
     "output_type": "stream",
     "text": [
      "Setting up band-pass filter from 8 - 12 Hz\n",
      "\n",
      "FIR filter parameters\n",
      "---------------------\n",
      "Designing a one-pass, zero-phase, non-causal bandpass filter:\n",
      "- Windowed time-domain design (firwin) method\n",
      "- Hamming window with 0.0194 passband ripple and 53 dB stopband attenuation\n",
      "- Lower passband edge: 8.00\n",
      "- Lower transition bandwidth: 2.00 Hz (-6 dB cutoff frequency: 7.00 Hz)\n",
      "- Upper passband edge: 12.00 Hz\n",
      "- Upper transition bandwidth: 3.00 Hz (-6 dB cutoff frequency: 13.50 Hz)\n",
      "- Filter length: 413 samples (1.652 sec)\n",
      "\n"
     ]
    }
   ],
   "source": [
    "# Band-pass filter in alpha band\n",
    "alpha_band = epochs.copy().filter(*ALPHA_BAND)\n",
    "\n",
    "# Apply Hilbert transform to get analytic signal\n",
    "analytic_sig = alpha_band.copy().apply_hilbert()\n",
    "\n",
    "# Get total power from analytic signal\n",
    "total_power = analytic_sig.copy().apply_function(np.abs).apply_function(\n",
    "    np.square)"
   ]
  },
  {
   "cell_type": "code",
   "execution_count": 5,
   "metadata": {},
   "outputs": [],
   "source": [
    "# Seperate into blocks\n",
    "blocks = [np.array([]) for _ in range(N_BLOCKS)]\n",
    "for val in set(pos_bins):\n",
    "    # Find indices with particular values and randomly permute these indices\n",
    "    rand_inds = np.random.permutation(\n",
    "        np.where(beh_data_cleaned['posBin'] == val)[0])\n",
    "\n",
    "    # Split these indices into blocks\n",
    "    blocks_val = np.array_split(rand_inds, N_BLOCKS)\n",
    "\n",
    "    # Add blocks of particular value to big blocks structure\n",
    "    blocks = sorted(blocks, key=len)\n",
    "    blocks = [np.concatenate((block, block_val)) for block, block_val in zip(\n",
    "        blocks, blocks_val)]\n",
    "\n",
    "# Order blocks by length (max difference between any two blocks' length should \n",
    "# be 1)\n",
    "blocks = sorted(blocks, key=len)\n"
   ]
  },
  {
   "cell_type": "code",
   "execution_count": 6,
   "metadata": {},
   "outputs": [],
   "source": [
    "# Calculate total power for blocks of trials\n",
    "n_trials_per_bin = np.bincount(pos_bins - 1).min() // N_BLOCKS * N_BLOCKS\n",
    "total_power_arr = np.zeros((len(set(\n",
    "    pos_bins)) * N_BLOCKS, n_channels, n_timepts))\n",
    "\n",
    "idx_split_by_vals = np.split(np.argsort(pos_bins), np.where(np.diff(sorted(\n",
    "    pos_bins)))[0]+1)\n",
    "for i, val_split in enumerate(idx_split_by_vals):\n",
    "    idx = np.random.permutation(val_split)[:n_trials_per_bin]\n",
    "    block_avg = np.real(np.mean(total_power.get_data()[idx, :, :].reshape(\n",
    "        -1, N_BLOCKS, n_channels, n_timepts), axis=0))\n",
    "    total_power_arr[i*N_BLOCKS:(i+1)*N_BLOCKS, :, :] = block_avg"
   ]
  },
  {
   "cell_type": "code",
   "execution_count": 7,
   "metadata": {},
   "outputs": [],
   "source": [
    "class IEM():\n",
    "    def __init__(self, n_channels=IEM_N_CHANNELS, basis_func=IEM_BASIS_FUNC, \n",
    "            feat_space_range=IEM_FEAT_SPACE_RANGE, feature_name=FEATURE_NAME):\n",
    "        self.n_channels = n_channels\n",
    "        self.basis_func = basis_func\n",
    "        self.theta = np.linspace(*feat_space_range, np.diff(\n",
    "            feat_space_range)[0] + 1).astype(int)\n",
    "        self.channel_centers = np.linspace(\n",
    "            feat_space_range[0], feat_space_range[-1] + 1, \n",
    "            self.n_channels + 1)[:-1].astype(int)\n",
    "        self.basis_set = np.array([np.roll(self.basis_func(\n",
    "            self.theta), channel_center - len(\n",
    "                self.theta) // 2) for channel_center in self.channel_centers])\n",
    "        self.feature_name = feature_name\n",
    "\n",
    "        self.design_matrix = None\n",
    "        self.weights = None\n",
    "        return\n",
    "    \n",
    "    def _gen_design_matrix(self, labels):\n",
    "        self.design_matrix = np.eye(len(self.theta))[labels] @ self.basis_set.T\n",
    "        return\n",
    "\n",
    "    def fit_iem(self, train_data):\n",
    "        inv = np.linalg.inv(self.design_matrix.T @ self.design_matrix)\n",
    "        self.weights = train_data.T @ self.design_matrix @ inv\n",
    "        return\n",
    "\n",
    "    def train_model(self, train_data, train_labels):\n",
    "        self._gen_design_matrix(train_labels)\n",
    "        self.fit_iem(train_data)\n",
    "        return\n",
    "\n",
    "    def estimate_crf(self, test_data, test_labels):\n",
    "        inv = np.linalg.inv(self.weights.T @ self.weights)\n",
    "        uncentered_crfs = inv @ self.weights.T @ test_data.T\n",
    "        self.estimated_crf_each_trial = np.array([np.roll(crf, label - len(\n",
    "            self.theta) // 2) for crf, label in zip(\n",
    "                uncentered_crfs, test_labels)])\n",
    "        self.estimated_crf = np.mean(self.estimated_crf_each_trial, axis=0)\n",
    "        return\n",
    "        \n",
    "    def plot_channel_basis_funcs(self):\n",
    "        df = pd.DataFrame({\n",
    "            'Angular Location (°)': np.tile(self.theta, self.n_channels), \n",
    "            'Peak Response (°)': np.repeat(self.channel_centers, len(\n",
    "                self.theta)),\n",
    "            'Channel Activation': self.basis_set.flatten()})\n",
    "        g = sns.lineplot(\n",
    "            x='Angular Location (°)', y='Channel Activation', \n",
    "            hue='Peak Response (°)', data=df)\n",
    "        g.legend(labels=self.channel_centers, bbox_to_anchor=(\n",
    "            1.05, 1), title='Peak Response (°)')"
   ]
  },
  {
   "cell_type": "code",
   "execution_count": 8,
   "metadata": {},
   "outputs": [],
   "source": [
    "channel_centers = np.linspace(\n",
    "    IEM_FEAT_SPACE_RANGE[0], IEM_FEAT_SPACE_RANGE[-1] + 1, \n",
    "    IEM_N_CHANNELS + 1)[:-1].astype(int)\n",
    "\n",
    "def estimate_crf_one_block(train_data, train_labels, test_data, test_labels):\n",
    "    iem = IEM()\n",
    "    iem.train_model(train_data, train_labels)\n",
    "    iem.estimate_crf(test_data, test_labels)\n",
    "    return iem.estimated_crf\n",
    "\n",
    "def estimate_crf_one_tp(total_power_arr_one_tp):\n",
    "    block_crfs = []\n",
    "    for test_block in range(N_BLOCKS):\n",
    "        train_data = total_power_arr_one_tp[np.mod(np.arange(\n",
    "            total_power_arr.shape[0]), N_BLOCKS) != test_block, :]\n",
    "        train_labels = np.tile(channel_centers, N_BLOCKS - 1)\n",
    "        test_data = total_power_arr_one_tp[np.mod(np.arange(\n",
    "            total_power_arr.shape[0]), N_BLOCKS) == test_block, :]\n",
    "        test_labels = channel_centers\n",
    "        block_crfs.append(estimate_crf_one_block(\n",
    "            train_data, train_labels, test_data, test_labels))\n",
    "    return np.mean(np.stack(block_crfs), axis=0)\n",
    "\n",
    "crfs_by_tp = []\n",
    "for total_power_arr_one_tp in np.moveaxis(total_power_arr, 2, 0):\n",
    "    crfs_by_tp.append(estimate_crf_one_tp(total_power_arr_one_tp))\n"
   ]
  },
  {
   "cell_type": "code",
   "execution_count": 9,
   "metadata": {},
   "outputs": [
    {
     "data": {
      "text/plain": [
       "<matplotlib.collections.QuadMesh at 0x17ee36c10>"
      ]
     },
     "execution_count": 9,
     "metadata": {},
     "output_type": "execute_result"
    },
    {
     "data": {
      "image/png": "[encoded data removed]",
      "text/plain": [
       "<Figure size 432x288 with 1 Axes>"
      ]
     },
     "metadata": {
      "needs_background": "light"
     },
     "output_type": "display_data"
    }
   ],
   "source": [
    "plt.pcolormesh(np.stack(crfs_by_tp).T)"
   ]
  }
 ],
 "metadata": {
  "interpreter": {
   "hash": "f78045c84f4c3e044de0b01ab417c4f8c10511f29a185a97c667458eb8910fde"
  },
  "kernelspec": {
   "display_name": "Python 3.9.10 ('voytek')",
   "language": "python",
   "name": "python3"
  },
  "language_info": {
   "codemirror_mode": {
    "name": "ipython",
    "version": 3
   },
   "file_extension": ".py",
   "mimetype": "text/x-python",
   "name": "python",
   "nbconvert_exporter": "python",
   "pygments_lexer": "ipython3",
   "version": "3.9.12"
  },
  "orig_nbformat": 4
 },
 "nbformat": 4,
 "nbformat_minor": 2
}
