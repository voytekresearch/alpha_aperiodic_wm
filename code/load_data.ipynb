{
 "cells": [
  {
   "cell_type": "markdown",
   "metadata": {},
   "source": [
    "### Preliminary Necessities"
   ]
  },
  {
   "cell_type": "code",
   "execution_count": 1,
   "metadata": {},
   "outputs": [],
   "source": [
    "# Import necessary modules\n",
    "import mne\n",
    "import numpy as np\n",
    "import pandas as pd\n",
    "import os\n",
    "from mne.externals.pymatreader import read_mat\n",
    "from scipy import signal\n",
    "import matplotlib.pyplot as plt"
   ]
  },
  {
   "cell_type": "code",
   "execution_count": 2,
   "metadata": {},
   "outputs": [],
   "source": [
    "# Set parameters\n",
    "DATA_DIR = '../data/from_osf'\n",
    "EEG_DIR = 'EEG'\n",
    "EXP = 1\n",
    "SUBJ = 1\n",
    "ALPHA_BAND = (8, 12)\n",
    "N_BLOCKS = 3\n",
    "N_BLOCK_ITERS = 10"
   ]
  },
  {
   "cell_type": "markdown",
   "metadata": {},
   "source": [
    "### Load Data from MAT Files"
   ]
  },
  {
   "cell_type": "code",
   "execution_count": 3,
   "metadata": {},
   "outputs": [
    {
     "name": "stdout",
     "output_type": "stream",
     "text": [
      "Not setting metadata\n",
      "Not setting metadata\n",
      "960 matching events found\n",
      "No baseline correction applied\n",
      "0 projection items activated\n",
      "0 bad epochs dropped\n",
      "Dropped 151 epochs: 2, 42, 71, 78, 83, 102, 108, 111, 115, 124, 129, 134, 154, 160, 164, 175, 176, 184, 205, 207, 210, 211, 217, 218, 221, 222, 223, 224, 225, 227, 244, 246, 248, 253, 255, 302, 306, 309, 311, 317, 333, 335, 336, 338, 374, 408, 457, 469, 471, 480, 481, 485, 486, 489, 503, 504, 506, 510, 544, 545, 548, 550, 551, 557, 564, 569, 586, 590, 591, 592, 596, 614, 623, 641, 659, 660, 667, 674, 675, 677, 690, 693, 694, 695, 697, 741, 742, 749, 750, 751, 754, 757, 758, 759, 767, 789, 790, 799, 802, 803, 809, 810, 813, 814, 820, 821, 823, 824, 828, 829, 834, 841, 843, 845, 851, 853, 854, 856, 857, 858, 861, 864, 865, 866, 870, 871, 872, 873, 874, 877, 878, 879, 881, 886, 887, 890, 911, 912, 915, 916, 920, 925, 926, 930, 934, 935, 937, 938, 948, 952, 957\n"
     ]
    }
   ],
   "source": [
    "# Load EEG data for one subject\n",
    "eeg_mat_fname = os.path.join(DATA_DIR, 'exp{}'.format(EXP), EEG_DIR, '{}_EEG.mat'.format(SUBJ))\n",
    "eeg_data = read_mat(eeg_mat_fname)['eeg']\n",
    "info = mne.create_info(eeg_data['chanLabels'], eeg_data['sampRate'], ch_types='eeg')\n",
    "epochs = mne.EpochsArray(\n",
    "    eeg_data['data'], info, tmin=eeg_data['preTime'] / 1000).drop(\n",
    "        eeg_data['arf']['artIndCleaned'].astype(bool))\n",
    "assert epochs.times[-1] == eeg_data['postTime'] / 1000\n",
    "\n",
    "# Load behavioral data for one subject\n",
    "beh_mat_fname = os.path.join(DATA_DIR, 'exp{}'.format(EXP), 'Data', '{}_MixModel_wBias.mat'.format(SUBJ))\n",
    "beh_data = read_mat(beh_mat_fname)['beh']['trial']\n",
    "beh_data_cleaned = {k: val[~eeg_data['arf']['artIndCleaned'].astype(bool)] for k, val in beh_data.items()}"
   ]
  },
  {
   "cell_type": "markdown",
   "metadata": {},
   "source": [
    "### EEG Preprocessing"
   ]
  },
  {
   "cell_type": "code",
   "execution_count": 6,
   "metadata": {},
   "outputs": [
    {
     "name": "stdout",
     "output_type": "stream",
     "text": [
      "Setting up band-pass filter from 8 - 12 Hz\n",
      "\n",
      "FIR filter parameters\n",
      "---------------------\n",
      "Designing a one-pass, zero-phase, non-causal bandpass filter:\n",
      "- Windowed time-domain design (firwin) method\n",
      "- Hamming window with 0.0194 passband ripple and 53 dB stopband attenuation\n",
      "- Lower passband edge: 8.00\n",
      "- Lower transition bandwidth: 2.00 Hz (-6 dB cutoff frequency: 7.00 Hz)\n",
      "- Upper passband edge: 12.00 Hz\n",
      "- Upper transition bandwidth: 3.00 Hz (-6 dB cutoff frequency: 13.50 Hz)\n",
      "- Filter length: 413 samples (1.652 sec)\n",
      "\n"
     ]
    }
   ],
   "source": [
    "# Band-pass filter in alpha band\n",
    "alpha_band = epochs.copy().filter(*ALPHA_BAND)\n",
    "\n",
    "# Apply Hilbert transform to get analytic signal\n",
    "analytic_sig = alpha_band.copy().apply_hilbert()\n",
    "\n",
    "# Get total power from analytic signal\n",
    "total_power = analytic_sig.copy().apply_function(np.abs).apply_function(np.square)"
   ]
  },
  {
   "cell_type": "code",
   "execution_count": 5,
   "metadata": {},
   "outputs": [],
   "source": [
    "# Seperate into blocks\n",
    "blocks = [np.array([]) for _ in range(N_BLOCKS)]\n",
    "for val in set(beh_data_cleaned['posBin']):\n",
    "    # Find indices with particular values and randomly permute these indices\n",
    "    rand_inds = np.random.permutation(np.where(beh_data_cleaned['posBin'] == val)[0])\n",
    "\n",
    "    # Split these indices into blocks\n",
    "    blocks_val = np.array_split(rand_inds, N_BLOCKS)\n",
    "\n",
    "    # Add blocks of particular value to big blocks structure\n",
    "    blocks = sorted(blocks, key=len)\n",
    "    blocks = [np.concatenate((block, block_val)) for block, block_val in zip(blocks, blocks_val)]\n",
    "\n",
    "# Order blocks by length (max difference between any two blocks' length should be 1)\n",
    "blocks = sorted(blocks, key=len)\n"
   ]
  },
  {
   "cell_type": "code",
   "execution_count": null,
   "metadata": {},
   "outputs": [],
   "source": []
  }
 ],
 "metadata": {
  "interpreter": {
   "hash": "f78045c84f4c3e044de0b01ab417c4f8c10511f29a185a97c667458eb8910fde"
  },
  "kernelspec": {
   "display_name": "Python 3.9.10 ('voytek')",
   "language": "python",
   "name": "python3"
  },
  "language_info": {
   "codemirror_mode": {
    "name": "ipython",
    "version": 3
   },
   "file_extension": ".py",
   "mimetype": "text/x-python",
   "name": "python",
   "nbconvert_exporter": "python",
   "pygments_lexer": "ipython3",
   "version": "3.9.10"
  },
  "orig_nbformat": 4
 },
 "nbformat": 4,
 "nbformat_minor": 2
}
